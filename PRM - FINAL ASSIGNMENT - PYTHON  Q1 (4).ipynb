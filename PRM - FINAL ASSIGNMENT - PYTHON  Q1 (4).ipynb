{
 "cells": [
  {
   "cell_type": "code",
   "execution_count": null,
   "id": "aac7a8b3",
   "metadata": {},
   "outputs": [],
   "source": [
    "#You will be given a list. You have to print a list whose 1st element should be largest and 2nd should be the smallest then \n",
    "#the 3rd should be 2nd largest and 4th should be 2nd smallest and so on.\n",
    "\n",
    "#Input Format:\n",
    "\n",
    "#The first line will have space-separated elements of the list.\n",
    "\n",
    "#Output Format:\n",
    "\n",
    "#Print the required list.\n",
    "\n",
    "#Sample Input 0:\n",
    "\n",
    "#1 2 3 4 5 6\n",
    "\n",
    "#Sample Output 0:\n",
    "\n",
    "#6 1 5 2 4 3\n",
    "\n"
   ]
  },
  {
   "cell_type": "code",
   "execution_count": 63,
   "id": "167d5eeb",
   "metadata": {},
   "outputs": [
    {
     "name": "stdout",
     "output_type": "stream",
     "text": [
      "1 2 3 4 5 6\n",
      "The Sample input before formating are :  [1, 2, 3, 4, 5, 6]\n",
      "The Sample input after formating are :  [6, 1, 5, 2, 4, 3]\n"
     ]
    }
   ],
   "source": [
    "# solution number 1 (using if elif )\n",
    "\n",
    "def arrangee(n):\n",
    "    if len(n)==0 or len(n)==1:\n",
    "        print(\"formating not possible\")\n",
    "    elif len(n)%2==0:\n",
    "        for i in range(len(n)):\n",
    "            z.append(max(n))\n",
    "            z.append(min(n))\n",
    "            n.remove(max(n))\n",
    "            n.remove(min(n))\n",
    "            if len(n)==0:\n",
    "                break\n",
    "        return z\n",
    "    elif len(n)%2!=0:\n",
    "        for i in range(len(n)):\n",
    "            z.append(max(n))\n",
    "            z.append(min(n))\n",
    "            n.remove(max(n))\n",
    "            n.remove(min(n))\n",
    "            if len(n)==1:\n",
    "                z.append(n[0])\n",
    "                l.remove(n[0])\n",
    "                break\n",
    "            else:\n",
    "                continue\n",
    "        return z\n",
    "    \n",
    "n= list(map(int,input().split()))\n",
    "n=sorted(n)\n",
    "print(\"The Sample input before formating are : \",n)\n",
    "z=[]\n",
    "m=arrangee(n)\n",
    "print(\"The Sample input after formating are : \",m)"
   ]
  },
  {
   "cell_type": "code",
   "execution_count": 15,
   "id": "ad46c5f3",
   "metadata": {},
   "outputs": [
    {
     "name": "stdout",
     "output_type": "stream",
     "text": [
      "1 2 3 4 5 6\n",
      "The Sample input before formating are :  [1, 2, 3, 4, 5, 6]\n",
      "The Sample input after formating are : [6, 1, 5, 2, 3, 4]\n"
     ]
    }
   ],
   "source": [
    "# solution number 2 (using swapping)\n",
    "def arrange(n):\n",
    "    n[0],n[5]=n[5],n[0]\n",
    "    n[1],n[5]=n[5],n[1]\n",
    "    n[2],n[4],n[3],n[5]=n[4],n[2],n[5],n[3]\n",
    "    return n\n",
    "\n",
    "n = list(map(int,input().split()))\n",
    "print(\"The Sample input before formating are : \",n)\n",
    "m =  arrange(n)\n",
    "print (\"The Sample input after formating are :\",m)"
   ]
  },
  {
   "cell_type": "code",
   "execution_count": 56,
   "id": "3fc5affa",
   "metadata": {},
   "outputs": [
    {
     "name": "stdout",
     "output_type": "stream",
     "text": [
      "1 2 3 4 5 6\n",
      "The Sample input before formating are :  [1, 2, 3, 4, 5, 6]\n",
      "The Sample input after formating are : [6, 1, 5, 2, 4, 3]\n"
     ]
    }
   ],
   "source": [
    "# solution number 3 (using for loop)\n",
    "n = list(map(int,input().split()))\n",
    "print(\"The Sample input before formating are : \",n)\n",
    "n=sorted(n)\n",
    "\n",
    "z = []\n",
    "for i in range(len(n)):\n",
    "    z.append(max(n))\n",
    "    z.append(min(n))\n",
    "    n.remove(max(n))\n",
    "    n.remove(min(n))\n",
    "    if len(n)==0:\n",
    "        break\n",
    "print(\"The Sample input after formating are :\",z)"
   ]
  },
  {
   "cell_type": "code",
   "execution_count": null,
   "id": "bdd7c7a9",
   "metadata": {},
   "outputs": [],
   "source": []
  }
 ],
 "metadata": {
  "kernelspec": {
   "display_name": "Python 3 (ipykernel)",
   "language": "python",
   "name": "python3"
  },
  "language_info": {
   "codemirror_mode": {
    "name": "ipython",
    "version": 3
   },
   "file_extension": ".py",
   "mimetype": "text/x-python",
   "name": "python",
   "nbconvert_exporter": "python",
   "pygments_lexer": "ipython3",
   "version": "3.9.13"
  }
 },
 "nbformat": 4,
 "nbformat_minor": 5
}
